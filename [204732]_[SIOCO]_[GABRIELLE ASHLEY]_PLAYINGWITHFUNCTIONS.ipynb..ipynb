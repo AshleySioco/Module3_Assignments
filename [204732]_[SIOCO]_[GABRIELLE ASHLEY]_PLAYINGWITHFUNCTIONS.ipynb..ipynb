{
 "cells": [
  {
   "cell_type": "markdown",
   "id": "b311cd50-76d0-4eff-aacf-c954d7783de3",
   "metadata": {},
   "source": [
    "# Assignment: Playing with Functions\n",
    "\n",
    "This problem set aims to serve as a stepping stone from basic Python to intermediate Python.  "
   ]
  },
  {
   "cell_type": "markdown",
   "id": "7843e78a-c77f-4662-900c-714330ada001",
   "metadata": {},
   "source": [
    "## Problem 1\n",
    "## Factorial (1 point)\n",
    "\n",
    "The **factorial** of a number is the product of that number and all the numbers below it. For example, 5 factorial (denoted 5! in math) is 5 * 4 * 3 * 2 * 1, which is 120.  \n",
    "\n",
    "**Write a function called `problem_1` that takes one positional argument `number`. The function should return  the factorial of `number` as an integer.**\n",
    "\n",
    "Example input/output:  \n",
    "`problem_1(5)` => `120`  \n",
    "`problem_1(10)` => `3628800`  "
   ]
  },
  {
   "cell_type": "code",
   "execution_count": 4,
   "id": "1a62b7a0-5d38-42dd-8cb8-ced94be5455d",
   "metadata": {},
   "outputs": [
    {
     "data": {
      "text/plain": [
       "3628800"
      ]
     },
     "execution_count": 4,
     "metadata": {},
     "output_type": "execute_result"
    }
   ],
   "source": [
    "\n",
    "def problem_1(number):\n",
    "    current_product=1\n",
    "    current_counter=1\n",
    "    while current_counter<number:\n",
    "        current_counter=current_counter+1\n",
    "        current_product=current_counter*current_product\n",
    "    return int(current_product)\n",
    "        \n",
    "problem_1(10)\n",
    "    "
   ]
  },
  {
   "cell_type": "markdown",
   "id": "b95d08a5-e4f9-4bb4-8e18-e09e629df96b",
   "metadata": {},
   "source": [
    "## Problem 2\n",
    "## Number Guessing Game (2 points) \n",
    "\n",
    "Recall that we use `input()` to ask for user input.  \n",
    "\n",
    "**Write a function called `problem_2` that takes one positional argument `passphrase`. The function should ask the user to enter the passphrase with `input()`. If the user enters the correct passphrase, the function should return the integer `1`. If the user enters the wrong passphrase, the function should keep asking them for the passphrase. If the user gets the passphrase wrong 3 times, the function should return the integer `0`.**  \n",
    "\n",
    "Example input/output:  \n",
    "\n",
    "Function input:  \n",
    "`problem_2(\"chums\")`  \n",
    "Simulated user input:  \n",
    "`joben`  \n",
    "`chums`  \n",
    "Output:  \n",
    "`1`  \n",
    "\n",
    "Function input:  \n",
    "`problem_2(\"annika\")`  \n",
    "Simulated user input:  \n",
    "`joe`  \n",
    "`earl`  \n",
    "`niks`  \n",
    "Output:  \n",
    "`0`"
   ]
  },
  {
   "cell_type": "code",
   "execution_count": 2,
   "id": "948e9ab7-85e3-417e-914d-c1c27bdbfcdb",
   "metadata": {},
   "outputs": [
    {
     "name": "stdout",
     "output_type": "stream",
     "text": [
      "Enter passphrase: joea\n",
      "Enter passphrase: earl\n",
      "Enter passphrase: chums\n"
     ]
    },
    {
     "data": {
      "text/plain": [
       "1"
      ]
     },
     "execution_count": 2,
     "metadata": {},
     "output_type": "execute_result"
    }
   ],
   "source": [
    "def problem_2(passphrase):\n",
    "\n",
    "    for number_of_times in range(1,4):\n",
    "        answer= input(\"Enter passphrase: \")\n",
    "        if answer==passphrase:\n",
    "            return 1\n",
    "        elif number_of_times == 3:\n",
    "            return 0\n",
    "            break\n",
    "            \n",
    "problem_2(\"chums\")"
   ]
  },
  {
   "cell_type": "markdown",
   "id": "1b434f41-8e16-4a4d-a8d0-96be3ed2a309",
   "metadata": {},
   "source": [
    "## Problem 3\n",
    "## Temperature Converter (3 points)\n",
    "\n",
    "A common beginner's exercise is to write a function that can convert a temperature value from one format, such as Fahrenheit, to another, such as Celsius.  \n",
    "\n",
    "In this problem, extend this idea to convert temperatures freely to and from any of the following formats: Celsius, Fahrenheit, and Kelvin.  \n",
    "\n",
    "**Write a function called `problem_3` that takes three positional arguments: (float) `temp`, (string) `original_format`, (string) `new_format`. The function should convert `temp`, which is represented in `original_format`, to its equivalent value in the `new_format.`**  \n",
    "\n",
    "Example input/output:  \n",
    "`problem_3(0.0, \"Celsius\", \"Fahrenheit\")` => `32.0`  \n",
    "`problem_3(500.0, \"Kelvin\", \"Fahrenheit\")` => `440.33`  \n",
    "`problem_3(273.0, \"Kelvin\", \"Celsius\")` => `0.0`  \n",
    "\n",
    "For your convenience:  \n",
    "1. The accuracy of your float outputs will only be evaluated to within 2 decimal places. (In other words: don't worry too much about getting the calculation *exactly* right.)"
   ]
  },
  {
   "cell_type": "code",
   "execution_count": 3,
   "id": "652183db-4f42-40cf-b8cf-f0120914b86b",
   "metadata": {},
   "outputs": [
    {
     "data": {
      "text/plain": [
       "-0.14999999999997726"
      ]
     },
     "execution_count": 3,
     "metadata": {},
     "output_type": "execute_result"
    }
   ],
   "source": [
    "def problem_3(temp, original_format, new_format):\n",
    "    temp=float(temp)\n",
    "    original_format=str(original_format)\n",
    "    new_format=str(new_format)\n",
    "    if original_format==\"Celsius\" and new_format==\"Fahrenheit\":\n",
    "        final_temp= (temp*9/5) +32\n",
    "    elif original_format==\"Celsius\" and new_format==\"Kelvin\":\n",
    "        final_temp= temp + 273.15\n",
    "    elif original_format==\"Fahrenheit\" and new_format==\"Celsius\":\n",
    "        final_temp= (temp-32) * 5/9 \n",
    "    elif original_format==\"Fahrenheit\" and new_format==\"Kelvin\":\n",
    "        final_temp = (temp-32) * 5/9 +273.15\n",
    "    elif original_format==\"Kelvin\" and new_format==\"Celsius\":\n",
    "        final_temp = temp-273.15\n",
    "    else: #kelvin to farenheit\n",
    "        final_temp = (temp-273.15) * 9/5 + 32\n",
    "    \n",
    "    return(final_temp)\n",
    "\n",
    "problem_3(273, \"Kelvin\", \"Celsius\")"
   ]
  },
  {
   "cell_type": "markdown",
   "id": "f12ed1ad-7738-4f4a-aa35-8f7ee87ea395",
   "metadata": {},
   "source": [
    "## Problem 4\n",
    "## Exact Change (4 points)\n",
    "\n",
    "Part of a cashier's job is to give exact change to customers. It can be difficult to mentally tally how many coins of each type (i.e., 1 peso, 25 centavos, 10 centavos, etc.) to give to a customer.  \n",
    "\n",
    "**Write a function called `problem_4` that takes 1 positional argument `amount` in centavos. The function should return a string that describes the appropriate amounts of each type of coin to give to the customer. The string should be formatted as follows:**  \n",
    "\n",
    "`\"1P:{num}/25C:{num}/10C:{num}/5C:{num}/1C:{num}\"`  \n",
    "\n",
    "**Use the fewest number of total coins possible.**  \n",
    "\n",
    "Example input/output:  \n",
    "`problem_4(105)` => `\"1P:1/25C:0/10C:0/5C:1/1C:0\"`  \n",
    "`problem_4(69)` => `\"1P:0/25C:2/10C:1/5C:1/1C:4\"`  "
   ]
  },
  {
   "cell_type": "code",
   "execution_count": 38,
   "id": "3899279e-d77b-49f6-a7ed-da43c631fff4",
   "metadata": {},
   "outputs": [
    {
     "data": {
      "text/plain": [
       "'1P:1/25C:0/10C:0/5C:1/1C:0'"
      ]
     },
     "execution_count": 38,
     "metadata": {},
     "output_type": "execute_result"
    }
   ],
   "source": [
    "def problem_4(amount):\n",
    "    amt_P = amount//100\n",
    "\n",
    "    amt_aftP= amount-(100*amt_P)\n",
    "\n",
    "    amt_Q = amt_aftP//25\n",
    "\n",
    "    amt_aftQ=amt_aftP-(25*amt_Q)\n",
    "\n",
    "    amt_10 = amt_aftQ//10\n",
    "\n",
    "    amt_aft10 = amt_aftQ-(10*amt_10)\n",
    "\n",
    "    amt_5 = amt_aft10//5\n",
    "\n",
    "    amt_C = amt_aft10-(5*amt_5)\n",
    "\n",
    "    return(f\"1P:{amt_P}/25C:{amt_Q}/10C:{amt_10}/5C:{amt_5}/1C:{amt_C}\")\n",
    "\n",
    "problem_4(105)"
   ]
  },
  {
   "cell_type": "markdown",
   "id": "a45e4549-fb1a-4a4e-aceb-1eb46ceaa2c2",
   "metadata": {},
   "source": [
    "## Problem 5\n",
    "## Invert Capitalization (3 points)  \n",
    "\n",
    "**Write a function called `problem_5` that takes 1 positional argument (string) `message`. The function should return a string whose uppercase letters are now lowercase and whose lowercase letters are now uppercase. Spaces should be left alone.**  \n",
    "\n",
    "Example input/output:  \n",
    "`problem_5(\"Test Me\")` => `\"tEST mE\"`  \n",
    "`problem_5(\"asSiGnmENt\")` => `\"ASsIgNMenT\"`  \n",
    "\n",
    "For your convenience:  \n",
    "1. The message will only ever consist of spaces, lowercase letters, and uppercase letters.  \n",
    "\n",
    "Hint: Research on `ord()` and `chr()`.  "
   ]
  },
  {
   "cell_type": "code",
   "execution_count": 24,
   "id": "28059e47",
   "metadata": {},
   "outputs": [
    {
     "data": {
      "text/plain": [
       "'AshLEY IS cOoL'"
      ]
     },
     "execution_count": 24,
     "metadata": {},
     "output_type": "execute_result"
    }
   ],
   "source": [
    "def problem_5(message):\n",
    "#A  has an order of 65, a has an order of 97, space has an order of 32\n",
    "    current_str=\"\"\n",
    "    for letter in message:\n",
    "        number= ord(letter)\n",
    "        if number>=97:\n",
    "            switched_letter=chr(number-32)\n",
    "        elif number==32:\n",
    "            switched_letter=chr(number)\n",
    "        else:\n",
    "            switched_letter=chr(number+32)\n",
    "        \n",
    "        current_str += switched_letter\n",
    "        \n",
    "    return(current_str)\n",
    "\n",
    "problem_5(\"aSHley is CoOl\")"
   ]
  },
  {
   "cell_type": "code",
   "execution_count": null,
   "id": "ff895947",
   "metadata": {},
   "outputs": [],
   "source": []
  }
 ],
 "metadata": {
  "kernelspec": {
   "display_name": "Python 3",
   "language": "python",
   "name": "python3"
  },
  "language_info": {
   "codemirror_mode": {
    "name": "ipython",
    "version": 3
   },
   "file_extension": ".py",
   "mimetype": "text/x-python",
   "name": "python",
   "nbconvert_exporter": "python",
   "pygments_lexer": "ipython3",
   "version": "3.8.8"
  }
 },
 "nbformat": 4,
 "nbformat_minor": 5
}
